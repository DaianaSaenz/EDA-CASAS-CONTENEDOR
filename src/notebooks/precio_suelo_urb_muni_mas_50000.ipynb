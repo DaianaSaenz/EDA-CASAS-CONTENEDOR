{
 "cells": [
  {
   "cell_type": "code",
   "execution_count": 9,
   "metadata": {},
   "outputs": [
    {
     "data": {
      "text/html": [
       "<div>\n",
       "<style scoped>\n",
       "    .dataframe tbody tr th:only-of-type {\n",
       "        vertical-align: middle;\n",
       "    }\n",
       "\n",
       "    .dataframe tbody tr th {\n",
       "        vertical-align: top;\n",
       "    }\n",
       "\n",
       "    .dataframe thead th {\n",
       "        text-align: right;\n",
       "    }\n",
       "</style>\n",
       "<table border=\"1\" class=\"dataframe\">\n",
       "  <thead>\n",
       "    <tr style=\"text-align: right;\">\n",
       "      <th></th>\n",
       "      <th>comunidad_autonoma</th>\n",
       "      <th>Año 2022</th>\n",
       "    </tr>\n",
       "  </thead>\n",
       "  <tbody>\n",
       "    <tr>\n",
       "      <th>2</th>\n",
       "      <td>TOTAL NACIONAL</td>\n",
       "      <td>240.19</td>\n",
       "    </tr>\n",
       "    <tr>\n",
       "      <th>3</th>\n",
       "      <td>Andalucía</td>\n",
       "      <td>241.66</td>\n",
       "    </tr>\n",
       "    <tr>\n",
       "      <th>4</th>\n",
       "      <td>Almería</td>\n",
       "      <td>210.83</td>\n",
       "    </tr>\n",
       "    <tr>\n",
       "      <th>5</th>\n",
       "      <td>Cádiz</td>\n",
       "      <td>146.03</td>\n",
       "    </tr>\n",
       "    <tr>\n",
       "      <th>6</th>\n",
       "      <td>Córdoba</td>\n",
       "      <td>182.91</td>\n",
       "    </tr>\n",
       "    <tr>\n",
       "      <th>...</th>\n",
       "      <td>...</td>\n",
       "      <td>...</td>\n",
       "    </tr>\n",
       "    <tr>\n",
       "      <th>59</th>\n",
       "      <td>Álava</td>\n",
       "      <td>324.3</td>\n",
       "    </tr>\n",
       "    <tr>\n",
       "      <th>60</th>\n",
       "      <td>Guipúzcoa</td>\n",
       "      <td>.</td>\n",
       "    </tr>\n",
       "    <tr>\n",
       "      <th>61</th>\n",
       "      <td>Vizcaya</td>\n",
       "      <td>213.5</td>\n",
       "    </tr>\n",
       "    <tr>\n",
       "      <th>62</th>\n",
       "      <td>Rioja (La)</td>\n",
       "      <td>n.s.</td>\n",
       "    </tr>\n",
       "    <tr>\n",
       "      <th>63</th>\n",
       "      <td>Ceuta y Melilla</td>\n",
       "      <td>160.48</td>\n",
       "    </tr>\n",
       "  </tbody>\n",
       "</table>\n",
       "<p>62 rows × 2 columns</p>\n",
       "</div>"
      ],
      "text/plain": [
       "    comunidad_autonoma Año 2022\n",
       "2       TOTAL NACIONAL   240.19\n",
       "3            Andalucía   241.66\n",
       "4   Almería              210.83\n",
       "5   Cádiz                146.03\n",
       "6   Córdoba              182.91\n",
       "..                 ...      ...\n",
       "59               Álava    324.3\n",
       "60           Guipúzcoa        .\n",
       "61             Vizcaya    213.5\n",
       "62          Rioja (La)     n.s.\n",
       "63     Ceuta y Melilla   160.48\n",
       "\n",
       "[62 rows x 2 columns]"
      ]
     },
     "execution_count": 9,
     "metadata": {},
     "output_type": "execute_result"
    }
   ],
   "source": [
    "#importamos las librerias necesarias para trabajar:\n",
    "import pandas as pd\n",
    "import requests\n",
    "\n",
    "url_precio_suelo_municipios_madrid_mas_50000hab=\"https://www.fomento.gob.es/be2/sedal/36403000.XLS\"\n",
    "response= requests.get(url_precio_suelo_municipios_madrid_mas_50000hab)\n",
    "\n",
    "with open('../data/precio_suelo_municipios_madrid_mas_50000hab.xls', 'wb') as f:\n",
    "    f.write(response.content)\n",
    "\n",
    "df = pd.read_excel('../data/precio_suelo_municipios_madrid_mas_50000hab.xls', skiprows=10)\n",
    "df.fillna(0)\n",
    "df.rename(columns={\"Unnamed: 1\": \"comunidad_autonoma\"}, inplace=True)\n",
    "df.dropna(subset=['comunidad_autonoma'], inplace=True)\n",
    "df = df.loc[:, ['comunidad_autonoma', 'Año 2022']]\n",
    "df.to_csv('../data/comunidad_madrid_precio_suelo_urbanizable.csv', index=False)\n",
    "df"
   ]
  },
  {
   "cell_type": "code",
   "execution_count": 5,
   "metadata": {},
   "outputs": [
    {
     "name": "stdout",
     "output_type": "stream",
     "text": [
      "554.63\n"
     ]
    }
   ],
   "source": [
    "precio_m2_suelo_madrid_mas_50000hab = df[df['comunidad_autonoma'].str.contains('Madrid')]['Año 2022'].iloc[0]\n",
    "print(precio_m2_suelo_madrid_mas_50000hab)"
   ]
  },
  {
   "cell_type": "code",
   "execution_count": null,
   "metadata": {},
   "outputs": [],
   "source": []
  }
 ],
 "metadata": {
  "kernelspec": {
   "display_name": "Python 3",
   "language": "python",
   "name": "python3"
  },
  "language_info": {
   "codemirror_mode": {
    "name": "ipython",
    "version": 3
   },
   "file_extension": ".py",
   "mimetype": "text/x-python",
   "name": "python",
   "nbconvert_exporter": "python",
   "pygments_lexer": "ipython3",
   "version": "3.7.4"
  },
  "orig_nbformat": 4
 },
 "nbformat": 4,
 "nbformat_minor": 2
}
